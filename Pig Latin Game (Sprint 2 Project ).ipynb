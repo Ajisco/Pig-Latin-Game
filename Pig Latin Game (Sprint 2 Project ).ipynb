{
 "cells": [
  {
   "cell_type": "code",
   "execution_count": null,
   "metadata": {},
   "outputs": [],
   "source": [
    "#Pig Latin Game:- Involving Changing English Sentences and Words to Pig Latin.\n",
    "\n",
    "import string   #importing useful package\n",
    "def pig_latin( ):\n",
    "    '''This function calls for a sentence or word input and converts to Pig Latin. '''\n",
    "    def change(word):\n",
    "        '''This function changes word to Pig Latin.'''\n",
    "        alphabets = string.ascii_uppercase + string.ascii_lowercase\n",
    "        vowel= ['a','e','i','o','u','A','E','I','O','U']   #English Upper, Lower cases Vowels\n",
    "        if word[0] in vowel:   #if first letter of the word is a vowel:\n",
    "             return (word+ 'way')\n",
    "        elif word[0] not in vowel and word[0] in alphabets: #If the first letter of the world is a consonant:\n",
    "             if word[0].isupper(): #if the first letter is consonant and upper case:\n",
    "                return word[1].upper() + word[2:] + word[0] +'ay'\n",
    "             else:    #if the first letter is consonant and lower case:\n",
    "                return word[1:] + word[0] +'ay'\n",
    "        else: #if the first letter is not an english alphabet:    \n",
    "            return word\n",
    "    flag = True\n",
    "    \n",
    "    sentence= input('Please type your sentence or word: ')\n",
    "    while sentence != '':   #while the input is not empty:\n",
    "        Pig_latin_sentence = ' '.join(list(map(change, sentence.split())))\n",
    "        print(Pig_latin_sentence) \n",
    "        return pig_latin( )   #this programme continues running until input is empty\n",
    "    \n",
    "    \n",
    "pig_latin( )  #calling the function to run the programme:\n",
    "    \n",
    "    \n"
   ]
  },
  {
   "cell_type": "code",
   "execution_count": null,
   "metadata": {},
   "outputs": [],
   "source": []
  }
 ],
 "metadata": {
  "kernelspec": {
   "display_name": "Python 3",
   "language": "python",
   "name": "python3"
  },
  "language_info": {
   "codemirror_mode": {
    "name": "ipython",
    "version": 3
   },
   "file_extension": ".py",
   "mimetype": "text/x-python",
   "name": "python",
   "nbconvert_exporter": "python",
   "pygments_lexer": "ipython3",
   "version": "3.7.1"
  }
 },
 "nbformat": 4,
 "nbformat_minor": 2
}
